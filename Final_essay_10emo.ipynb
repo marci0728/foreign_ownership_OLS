{
 "cells": [
  {
   "cell_type": "code",
   "execution_count": null,
   "id": "60ee410d",
   "metadata": {},
   "outputs": [],
   "source": [
    "import pandas as pd\n",
    "import numpy as np\n",
    "import statsmodels.api as sm"
   ]
  },
  {
   "cell_type": "code",
   "execution_count": 3,
   "id": "aafcbf23",
   "metadata": {
    "scrolled": true
   },
   "outputs": [
    {
     "name": "stderr",
     "output_type": "stream",
     "text": [
      "C:\\Users\\Kovács Márton Attila\\AppData\\Local\\Temp\\ipykernel_20084\\1129319405.py:1: DtypeWarning: Columns (4,25,39,156,209,326,339,414,417,436,440,441) have mixed types. Specify dtype option on import or set low_memory=False.\n",
      "  df = pd.read_csv('C:/Users/Kovács Márton Attila/Documents/bepps.csv', sep=';')\n"
     ]
    }
   ],
   "source": [
    "df = pd.read_csv('C:/Users/Kovács Márton Attila/Documents/bepps.csv', sep=';')"
   ]
  },
  {
   "cell_type": "markdown",
   "id": "c3110e2b",
   "metadata": {},
   "source": [
    "az adatok 2018-ból származnak, covid miatt. \n",
    "\n",
    "használt változók:\n",
    "\n",
    "\ta14y-év\n",
    "\ta1-country\n",
    "\td3c-direkt export\n",
    "\tb2b-Owned By Private Foreign Individuals, Companies or organizations\n",
    "\tb8- okmány\n",
    "\tb7-top meneger exp in the field\n",
    "\tb5- Year Establishment Began Operations \n",
    "\td30a, d30b - transport and tariffs\n",
    "\ta4a, a6a-sector and size\n",
    "\n",
    "\n",
    "dummy amik nincsenek benne a regresszióban:\n",
    "\tcountry: country_112\n",
    "\ttransport:0\n",
    "\tsector:1\n",
    "\tsize:1\n",
    "\ttariff:0\n"
   ]
  },
  {
   "cell_type": "code",
   "execution_count": 1,
   "id": "3fe88220",
   "metadata": {
    "scrolled": false
   },
   "outputs": [
    {
     "ename": "NameError",
     "evalue": "name 'df' is not defined",
     "output_type": "error",
     "traceback": [
      "\u001b[1;31m---------------------------------------------------------------------------\u001b[0m",
      "\u001b[1;31mNameError\u001b[0m                                 Traceback (most recent call last)",
      "Cell \u001b[1;32mIn [1], line 1\u001b[0m\n\u001b[1;32m----> 1\u001b[0m ex \u001b[38;5;241m=\u001b[39m \u001b[43mdf\u001b[49m\n\u001b[0;32m      2\u001b[0m ex \u001b[38;5;241m=\u001b[39m ex[[\u001b[38;5;124m'\u001b[39m\u001b[38;5;124ma14y\u001b[39m\u001b[38;5;124m'\u001b[39m, \u001b[38;5;124m'\u001b[39m\u001b[38;5;124ma1\u001b[39m\u001b[38;5;124m'\u001b[39m, \u001b[38;5;124m'\u001b[39m\u001b[38;5;124md3c\u001b[39m\u001b[38;5;124m'\u001b[39m, \u001b[38;5;124m'\u001b[39m\u001b[38;5;124mb2b\u001b[39m\u001b[38;5;124m'\u001b[39m, \u001b[38;5;124m'\u001b[39m\u001b[38;5;124mb8\u001b[39m\u001b[38;5;124m'\u001b[39m, \u001b[38;5;124m'\u001b[39m\u001b[38;5;124mb7\u001b[39m\u001b[38;5;124m'\u001b[39m, \u001b[38;5;124m'\u001b[39m\u001b[38;5;124mb5\u001b[39m\u001b[38;5;124m'\u001b[39m, \u001b[38;5;124m'\u001b[39m\u001b[38;5;124md30a\u001b[39m\u001b[38;5;124m'\u001b[39m, \u001b[38;5;124m'\u001b[39m\u001b[38;5;124ma4a\u001b[39m\u001b[38;5;124m'\u001b[39m, \u001b[38;5;124m'\u001b[39m\u001b[38;5;124ma6a\u001b[39m\u001b[38;5;124m'\u001b[39m, \u001b[38;5;124m'\u001b[39m\u001b[38;5;124md30b\u001b[39m\u001b[38;5;124m'\u001b[39m, \u001b[38;5;124m'\u001b[39m\u001b[38;5;124mb6\u001b[39m\u001b[38;5;124m'\u001b[39m]]\n\u001b[0;32m      3\u001b[0m ex \u001b[38;5;241m=\u001b[39m ex[ex[\u001b[38;5;124m'\u001b[39m\u001b[38;5;124ma14y\u001b[39m\u001b[38;5;124m'\u001b[39m] \u001b[38;5;241m==\u001b[39m \u001b[38;5;241m2018\u001b[39m \u001b[38;5;241m|\u001b[39m \u001b[38;5;241m2019\u001b[39m]\n",
      "\u001b[1;31mNameError\u001b[0m: name 'df' is not defined"
     ]
    }
   ],
   "source": [
    "ex = df\n",
    "ex = ex[['a14y', 'a1', 'd3c', 'b2b', 'b8', 'b7', 'b5', 'd30a', 'a4a', 'a6a', 'd30b', 'b6']]\n",
    "ex = ex[ex['a14y'] == 2018 | 2019]\n",
    "ex.dropna(inplace = True)\n",
    "ex = ex[ex['b6'] > 10]\n",
    "ex.drop('b6', axis = 1, inplace = True)\n",
    "ex = ex[ex['d3c'] > 0]\n",
    "ex = ex[ex['b2b'] >= 0]\n",
    "ex = ex[ex['b8'] > 0]\n",
    "ex = ex[(ex['b7'] >= 0) & (ex['b7'] < 60)]\n",
    "ex = ex[ex['b5'] > 0]\n",
    "ex = ex[ex['d30a'] >= 0]\n",
    "ex = ex[ex['d30a'] >= 0]\n",
    "ex = ex[ex['d30b'] >= 0]\n",
    "ex = ex[ex['a4a'] >= 0]\n",
    "ex = ex[(ex['a6a'] > 0) & (ex['a6a'] < 4)]\n",
    "ex = ex.drop('a14y', axis='columns')\n",
    "ex = ex.rename({'a1': 'country', \n",
    "               'd3c': 'dexp',\n",
    "               'b2b': 'foreign_owned',\n",
    "               'b8': 'cert',\n",
    "               'b7': 'meneger_exp',\n",
    "               'b5': 'first_year',\n",
    "               'd30a': 'transport',\n",
    "               'd30b': 'tariff',\n",
    "               'a4a':'sector',\n",
    "               'a6a':'size'}, axis = 'columns')\n",
    "\n",
    "data = ex\n",
    "\n",
    "ex['foreign_owned_dummy'] = ex['foreign_owned'].apply(lambda x: 1 if x > 50 else 0)\n",
    "ex_dummies = pd.get_dummies(ex[['country', 'transport', 'sector', 'size', 'tariff']].astype(str))\n",
    "ex = ex.merge(ex_dummies, how='outer', left_index = True, right_index = True)\n",
    "ex = ex.drop(['country', 'country_112','foreign_owned','transport','transport_0.0','sector','sector_1.0','size','size_1.0','tariff','tariff_0.0'], axis = 'columns')\n",
    "ex['age'] = 2023 - ex['first_year']\n",
    "ex.drop('first_year',axis=1,inplace=True)\n",
    "ex = ex.astype('int64')\n",
    "\n",
    "ex['intercept'] = 1\n",
    "ex_x = ex.drop('dexp', axis = 1)\n",
    "ex_y = np.array(ex['dexp'])\n",
    "olsresults = sm.OLS(ex_y, ex_x).fit()\n",
    "print(olsresults.summary())\n"
   ]
  },
  {
   "cell_type": "code",
   "execution_count": 21,
   "id": "17da21ba",
   "metadata": {},
   "outputs": [
    {
     "name": "stdout",
     "output_type": "stream",
     "text": [
      "           country         dexp  foreign_owned         cert  meneger_exp  \\\n",
      "count  4773.000000  4773.000000    4773.000000  4773.000000  4773.000000   \n",
      "mean     75.627069    44.518961      15.017180     1.479573    22.666457   \n",
      "std      29.894240    33.902125      33.516384     0.499635    11.498524   \n",
      "min      37.000000     1.000000       0.000000     1.000000     1.000000   \n",
      "25%      55.000000    15.000000       0.000000     1.000000    15.000000   \n",
      "50%      70.000000    35.000000       0.000000     1.000000    22.000000   \n",
      "75%      78.000000    79.000000       0.000000     2.000000    30.000000   \n",
      "max     160.000000   100.000000     100.000000     2.000000    59.000000   \n",
      "\n",
      "        first_year    transport       sector         size       tariff  \\\n",
      "count  4773.000000  4773.000000  4773.000000  4773.000000  4773.000000   \n",
      "mean   1994.323696     1.155877     5.718416     2.158600     1.079195   \n",
      "std      19.213872     1.248304     4.490643     0.787973     1.196886   \n",
      "min    1817.000000     0.000000     1.000000     1.000000     0.000000   \n",
      "25%    1991.000000     0.000000     2.000000     2.000000     0.000000   \n",
      "50%    1998.000000     1.000000     4.000000     2.000000     1.000000   \n",
      "75%    2006.000000     2.000000     9.000000     3.000000     2.000000   \n",
      "max    2018.000000     4.000000    25.000000     3.000000     4.000000   \n",
      "\n",
      "       foreign_owned_dummy  \n",
      "count          4773.000000  \n",
      "mean              0.143097  \n",
      "std               0.350208  \n",
      "min               0.000000  \n",
      "25%               0.000000  \n",
      "50%               0.000000  \n",
      "75%               0.000000  \n",
      "max               1.000000  \n"
     ]
    }
   ],
   "source": [
    "print(data.describe())"
   ]
  },
  {
   "cell_type": "code",
   "execution_count": null,
   "id": "61c73ce3",
   "metadata": {},
   "outputs": [],
   "source": []
  }
 ],
 "metadata": {
  "kernelspec": {
   "display_name": "Python 3 (ipykernel)",
   "language": "python",
   "name": "python3"
  },
  "language_info": {
   "codemirror_mode": {
    "name": "ipython",
    "version": 3
   },
   "file_extension": ".py",
   "mimetype": "text/x-python",
   "name": "python",
   "nbconvert_exporter": "python",
   "pygments_lexer": "ipython3",
   "version": "3.10.11"
  }
 },
 "nbformat": 4,
 "nbformat_minor": 5
}
